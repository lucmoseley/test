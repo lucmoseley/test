{
 "cells": [
  {
   "cell_type": "markdown",
   "id": "b680015b-7d54-4108-bde6-ce8fc81c14cf",
   "metadata": {},
   "source": [
    "wow we are testing things here"
   ]
  },
  {
   "cell_type": "markdown",
   "id": "14a9ddf5-31f5-4506-bed9-4113921bf180",
   "metadata": {},
   "source": [
    "## hep"
   ]
  },
  {
   "cell_type": "code",
   "execution_count": null,
   "id": "f0a94497-e429-4ca3-9f25-8f167fc6091b",
   "metadata": {},
   "outputs": [],
   "source": []
  }
 ],
 "metadata": {
  "kernelspec": {
   "display_name": "Python 3 (ipykernel)",
   "language": "python",
   "name": "python3"
  },
  "language_info": {
   "codemirror_mode": {
    "name": "ipython",
    "version": 3
   },
   "file_extension": ".py",
   "mimetype": "text/x-python",
   "name": "python",
   "nbconvert_exporter": "python",
   "pygments_lexer": "ipython3",
   "version": "3.11.4"
  }
 },
 "nbformat": 4,
 "nbformat_minor": 5
}
