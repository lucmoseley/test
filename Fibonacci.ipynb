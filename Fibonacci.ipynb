{
 "cells": [
  {
   "cell_type": "code",
   "execution_count": null,
   "id": "6260ee16-50cf-4ffc-a9c7-a5658b492a32",
   "metadata": {},
   "outputs": [],
   "source": [
    "# Import relevant libraries and packages\n",
    "import numpy as np"
   ]
  },
  {
   "cell_type": "code",
   "execution_count": null,
   "id": "a98b3b82-acb1-4bf6-b280-08c2f37133ee",
   "metadata": {},
   "outputs": [],
   "source": [
    "# Retrieve the placement of the number to be calculated in the Fibonacci sequence\n",
    "place_in_sequence = int(input( \"Position in the Fibonacci sequence to calculate:\" ))"
   ]
  },
  {
   "cell_type": "code",
   "execution_count": null,
   "id": "17b6b34c-45e6-43aa-b0c3-c36719950f81",
   "metadata": {},
   "outputs": [],
   "source": [
    "# Define a function for returning the nth number in a Fibonacci sequence\n",
    "def fibo_nth( place_in_sequence ):\n",
    "\n",
    "    # Make array of ones of length place_in_sequence\n",
    "    fib_seq = np.ones(place_in_sequence)\n",
    "\n",
    "    # Build a Fibonacci sequence of length place_in_sequence\n",
    "    for idx,_ in enumerate(fib_seq):\n",
    "\n",
    "        # Set the first two numbers in the sequence as 0,1\n",
    "        if (idx == 0) or (idx == 1):\n",
    "            fib_seq[idx] = idx\n",
    "\n",
    "        # Calculate all other numbers in the sequence as the sum of the previous 2 numbers\n",
    "        else:\n",
    "            fib_seq[idx] = fib_seq[idx-2] + fib_seq[idx-1]\n",
    "\n",
    "    # Return the final entry in the sequence\n",
    "    return fib_seq[-1]"
   ]
  },
  {
   "cell_type": "code",
   "execution_count": null,
   "id": "b47b7bb9-c9a5-4fbb-ae78-5e45f60973c7",
   "metadata": {},
   "outputs": [],
   "source": [
    "# Calculate the desired nth number in the Fibonacci sequence\n",
    "nth_number = fibo_nth(place_in_sequence)"
   ]
  },
  {
   "cell_type": "code",
   "execution_count": null,
   "id": "908557f7-6ad8-4b60-94eb-f14ff2488fa4",
   "metadata": {},
   "outputs": [],
   "source": [
    "# Return the number in the Fibonacci sequence corresponding to the given nth placement\n",
    "print( \"The {}th number in the Fibonacci sequence is {}\".format(place_in_sequence, nth_number) )"
   ]
  },
  {
   "cell_type": "code",
   "execution_count": null,
   "id": "008391cf-99ad-4842-8e7b-68b26914e565",
   "metadata": {},
   "outputs": [],
   "source": []
  }
 ],
 "metadata": {
  "kernelspec": {
   "display_name": "Python 3 (ipykernel)",
   "language": "python",
   "name": "python3"
  },
  "language_info": {
   "codemirror_mode": {
    "name": "ipython",
    "version": 3
   },
   "file_extension": ".py",
   "mimetype": "text/x-python",
   "name": "python",
   "nbconvert_exporter": "python",
   "pygments_lexer": "ipython3",
   "version": "3.11.4"
  }
 },
 "nbformat": 4,
 "nbformat_minor": 5
}
